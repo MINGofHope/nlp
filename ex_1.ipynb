{
  "cells": [
    {
      "cell_type": "markdown",
      "metadata": {
        "id": "view-in-github",
        "colab_type": "text"
      },
      "source": [
        "<a href=\"https://colab.research.google.com/github/MINGofHope/nlp/blob/master/ex_1.ipynb\" target=\"_parent\"><img src=\"https://colab.research.google.com/assets/colab-badge.svg\" alt=\"Open In Colab\"/></a>"
      ]
    },
    {
      "cell_type": "markdown",
      "source": [
        "# Task 1 - Regular Expression\n",
        "## 1.1 Find your sentence\n",
        "Given a sentence, judge if follows below three constraints:\n",
        "\n",
        "- Start with a single asterisk\n",
        "- End with letters \"oxy\" followed by at least one whitespace\n",
        "- Must not contain any punctuation marks\n",
        "\n",
        "If a match, print that sentence out, otherwise, print \"No Match\" "
      ],
      "metadata": {
        "id": "655hAnr0Gysn"
      }
    },
    {
      "cell_type": "code",
      "source": [
        "import re\n",
        "import string\n",
        "\n",
        "def check_punc(s):\n",
        "  b_punc = False\n",
        "  punc_ls = list(string.punctuation)\n",
        "\n",
        "  # print(type(s))\n",
        "\n",
        "  for i in s:\n",
        "    # print(i)\n",
        "    if i in punc_ls and i != '*':\n",
        "      # print(True)\n",
        "      b_punc = True\n",
        "      break\n",
        "  return b_punc\n",
        "\n",
        "def re_basics(m):\n",
        "  if m is None:\n",
        "    print('No Match')\n",
        "    return\n",
        "\n",
        "  s = m.group()\n",
        "  # print(s)\n",
        "\n",
        "  b = check_punc(s)\n",
        "  if b:\n",
        "    print('No Match')\n",
        "    return\n",
        "  print(s)\n",
        "\n",
        "  # print(m.group())\n",
        "\n",
        "strings = ['* contains epoxy cement', \\\n",
        "           '* contains only epoxy cement and water', \\\n",
        "           '* contains oxygen cement', \\\n",
        "           '* contains, e.g., expoxy cement']\n",
        "\n",
        "for item in strings:\n",
        "  re_pattern = r'^\\*.*oxy[\\s]+'\n",
        "  match = re.match(re_pattern, item)\n",
        "  re_basics(match)"
      ],
      "metadata": {
        "colab": {
          "base_uri": "https://localhost:8080/"
        },
        "id": "OTUK6QmATw7k",
        "outputId": "369f4fab-017e-4043-8754-473290d20ba5"
      },
      "execution_count": 1,
      "outputs": [
        {
          "output_type": "stream",
          "name": "stdout",
          "text": [
            "* contains epoxy \n",
            "* contains only epoxy \n",
            "No Match\n",
            "No Match\n"
          ]
        }
      ]
    },
    {
      "cell_type": "markdown",
      "source": [
        "## 1.2 - List All Occurences of Voltages\n",
        "Given an document below, \n",
        "\n",
        "The power supply used in the experimental setup was rated at 110V and 100W Experiment 1 showed that average response of the neurons was 10 mVolts and the standard deviation 1 mVolt. On a sub-sequent experiment the average response was still 10 mV but the standard deviation went down to 0.01 mVolts. The neurons were in V1 were assumed to have identical response distributions.\n",
        "\n",
        "Return voltage values and units that follow the numerical values using re."
      ],
      "metadata": {
        "id": "9lytWn0DoMk7"
      }
    },
    {
      "cell_type": "code",
      "source": [
        "txt = 'The power supply used in the experimental setup was rated at 110V and 100W. Experiment 1 showed that average response of the neurons was 10 mVolts and the standard deviation 1 mVolt. On a sub-sequent experiment the average response was still 10 mV but the standard deviation went down to 0.01 mVolts. The neurons were in V1 were assumed to have identical response distributions.'\n",
        "\n",
        "pattern = r'(?P<values>\\b\\d+(\\.\\d+)?) *(m?(V|Volts?))\\b'\n",
        "temp = re.findall(pattern, txt)\n",
        "# print(temp)\n",
        "\n",
        "for item in temp:\n",
        "  print(f'{item[0]}' + ' ' + f'{item[2]}')"
      ],
      "metadata": {
        "colab": {
          "base_uri": "https://localhost:8080/"
        },
        "id": "uOIYTi2Nre-_",
        "outputId": "abdea992-ed04-4510-b693-083857e5d363"
      },
      "execution_count": 68,
      "outputs": [
        {
          "output_type": "stream",
          "name": "stdout",
          "text": [
            "110 V\n",
            "10 mVolts\n",
            "1 mVolt\n",
            "10 mV\n",
            "0.01 mVolts\n"
          ]
        }
      ]
    },
    {
      "cell_type": "markdown",
      "source": [
        "# Task 2 - Edit-distance Algorithm\n",
        "Use dynamic programing to implement the edit-distance for two words from scratch\n",
        "\n",
        "The distance should be Levaenshtein one, and print out the minimum cost and a minimum-distance path\n",
        "\n",
        "Demonstrate the code with an example, such as from 'intention' to 'execution'\n",
        "\n"
      ],
      "metadata": {
        "id": "sfGoYSMPubYF"
      }
    },
    {
      "cell_type": "code",
      "source": [
        "def min_edit_distance(source, target):\n",
        "  # get the length of strings\n",
        "  m = len(source)\n",
        "  n = len(target)\n",
        "\n",
        "  # initilize min_cost_table \n",
        "  # orgin, rows, and columns value\n",
        "\n",
        "  # min_cost_table = [[0] * (n+1)] * (m+1)\n",
        "  min_cost_table = [[0 for j in range(n+1)] for i in range(m+1)]\n",
        "  min_cost_table[0][0] = 0\n",
        "  \n",
        "  # print(min_cost_table)\n",
        "  for i in range(1, m+1):\n",
        "    # min_cost_table[i][0] = i\n",
        "    min_cost_table[i][0] = min_cost_table[i-1][0] + 1\n",
        "  \n",
        "  for j in range(1, n+1):\n",
        "    # min_cost_table[0][j] = j\n",
        "    min_cost_table[0][j] = min_cost_table[0][j-1] + 1\n",
        "\n",
        "  # recurrence relation \n",
        "  for i in range(1, m+1):\n",
        "    for j in range(1, n+1):\n",
        "\n",
        "      cost = 2\n",
        "      if source[i-1] == target[j-1]:\n",
        "        cost = 0\n",
        "\n",
        "      min_cost_table[i][j] = min(min_cost_table[i-1][j] + 1, min_cost_table[i][j-1] + 1, \\\n",
        "                           min_cost_table[i-1][j-1] + cost)\n",
        "\n",
        "  return min_cost_table\n",
        "\n",
        "def back_trace(cost, y, x):\n",
        "  path = [(y, x)]\n",
        "  while (y, x) != (0, 0):\n",
        "    up_y = y - 1\n",
        "    left_x = x - 1\n",
        "    temp = ((cost[up_y][left_x], (up_y, left_x)), \\\n",
        "            (cost[up_y][x], (up_y, x)), \\\n",
        "            (cost[y][left_x], (y, left_x)))\n",
        "    distance, indexes = min(temp)\n",
        "    path.append(indexes)\n",
        "    (y, x) = indexes\n",
        "  return list(reversed(path))\n",
        "\n",
        "min_cost_table = min_edit_distance('intention', 'execution')\n",
        "for arr in min_cost_table:\n",
        "  print(arr)\n",
        "# print(min_cost_table) \n",
        "\n",
        "m = len(min_cost_table) - 1\n",
        "n = len(min_cost_table[0]) - 1\n",
        "min_cost = min_cost_table[m][n]\n",
        "print(min_cost)\n",
        "\n",
        "ptc = back_trace(min_cost_table, m, n)\n",
        "print(ptc)\n"
      ],
      "metadata": {
        "colab": {
          "base_uri": "https://localhost:8080/"
        },
        "id": "Kxxta20ubufo",
        "outputId": "35ce572d-9551-4b28-c6af-f9f5612eb258"
      },
      "execution_count": 108,
      "outputs": [
        {
          "output_type": "stream",
          "name": "stdout",
          "text": [
            "[0, 1, 2, 3, 4, 5, 6, 7, 8, 9]\n",
            "[1, 2, 3, 4, 5, 6, 7, 6, 7, 8]\n",
            "[2, 3, 4, 5, 6, 7, 8, 7, 8, 7]\n",
            "[3, 4, 5, 6, 7, 8, 7, 8, 9, 8]\n",
            "[4, 3, 4, 5, 6, 7, 8, 9, 10, 9]\n",
            "[5, 4, 5, 6, 7, 8, 9, 10, 11, 10]\n",
            "[6, 5, 6, 7, 8, 9, 8, 9, 10, 11]\n",
            "[7, 6, 7, 8, 9, 10, 9, 8, 9, 10]\n",
            "[8, 7, 8, 9, 10, 11, 10, 9, 8, 9]\n",
            "[9, 8, 9, 10, 11, 12, 11, 10, 9, 8]\n",
            "8\n",
            "[(0, 0), (1, 0), (2, 0), (3, 0), (4, 1), (4, 2), (4, 3), (4, 4), (5, 5), (6, 6), (7, 7), (8, 8), (9, 9)]\n"
          ]
        }
      ]
    },
    {
      "cell_type": "code",
      "source": [
        "# Explaination:\n",
        "# [i] -- [], drop i, 1\n",
        "# [i, n] -- [], drop i, n, 2\n",
        "# [i, n, t] -- [], drop i, n, t, 3\n",
        "# [i, n, t, e]  -- [e], drop i, n, t, 3\n",
        "# [i, n, t, e]  -- [e, x], drop i, n, t, add x, 4\n",
        "# [i, n, t, e]  -- [e, x, e], drop i, n, t, add x, e, 5\n",
        "# [i, n, t, e] -- [e, x, e, c], drop i, n, t, add x, e, c, 6\n",
        "# [i, n, t, e, n] -- [e, x, e, c, u] drop i, n, t, n, add x, e, c, u, 8\n",
        "# then t, i, o, n are same for source and target, we can get a cost of 8\n",
        "\n",
        "# In summary, intention, we delete i, n, t, keep e, delete n, add x, e, c, u, the\n",
        "# rest of t, i, o, n does not need to change. To sum cost of detlete and add \n",
        "# operation up, we will have a cost of 8 from intention to exeuction. \n"
      ],
      "metadata": {
        "id": "JERsP3ZwAcN1"
      },
      "execution_count": 97,
      "outputs": []
    }
  ],
  "metadata": {
    "colab": {
      "provenance": [],
      "collapsed_sections": [],
      "include_colab_link": true
    },
    "kernelspec": {
      "display_name": "Python 3",
      "name": "python3"
    },
    "language_info": {
      "name": "python"
    }
  },
  "nbformat": 4,
  "nbformat_minor": 0
}